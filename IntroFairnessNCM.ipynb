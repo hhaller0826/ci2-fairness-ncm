{
  "cells": [
    {
      "cell_type": "markdown",
      "metadata": {
        "colab_type": "text",
        "id": "view-in-github"
      },
      "source": [
        "<a href=\"https://colab.research.google.com/github/hhaller0826/ci2-fairness-ncm/blob/main/IntroFairnessNCM.ipynb\" target=\"_parent\"><img src=\"https://colab.research.google.com/assets/colab-badge.svg\" alt=\"Open In Colab\"/></a>"
      ]
    },
    {
      "cell_type": "markdown",
      "metadata": {
        "id": "IgunRRxRSECt"
      },
      "source": [
        "# Introduction/Explanation\n",
        "\n",
        "Causal Inference \n",
        "\n",
        "\"while probabilities encode our beliefs about a static world, causality tells us whether and how probabilities change when the world changes, be it by intervention or by act of imagination\". -- Book of Why"
      ]
    },
    {
      "cell_type": "code",
      "execution_count": 2,
      "metadata": {},
      "outputs": [],
      "source": [
        "\n",
        "\n",
        "from src.graph.default_graphs import *\n",
        "from src.graph.causal_graph import CausalGraph\n",
        "from src.graph.utils import *\n",
        "\n",
        "from trashfiles.dummy_functions import *\n",
        "\n",
        "from src.causalaibook.fusion import * \n"
      ]
    },
    {
      "cell_type": "markdown",
      "metadata": {
        "id": "aj1bp-5ESFoq"
      },
      "source": [
        "# Create a Causal Graph\n",
        "\n",
        "A causal graph (or \"causal diagram\") represents the relationships between the features in your data. Each node on the graph may represent one or more of these features. Please note that if a single node represents multiple features, we will not be able to distinguish between these features when doing causal analysis. \n",
        "\n",
        "If the values in one node may impact the values in another node, the graph will have a directed edge from the first node to the one that it affects. \n",
        "\n",
        "Sometimes there are confounders between two variables (lets call them A and B), meaning they are both directly impacted by the same third variable C. If C is one of the nodes on your graph, then there will be one directed edge from C to A, and another from C to B. If C is *not* one of the nodes on your graph, then we will create a bi-directed edge between A and B to signify that they are confounded. "
      ]
    },
    {
      "cell_type": "markdown",
      "metadata": {},
      "source": [
        "Examples of some graphs:"
      ]
    },
    {
      "cell_type": "code",
      "execution_count": null,
      "metadata": {},
      "outputs": [],
      "source": []
    },
    {
      "cell_type": "code",
      "execution_count": 2,
      "metadata": {},
      "outputs": [],
      "source": [
        "# TODO: add examples and plot them\n",
        "# TODO: express how maybe X = ['race','age'] OR X1 = 'race' and X2 = 'age' \n",
        "# TODO: express how you don't need an arrow for indirect effects. Like if A-->B-->C we may not need an arrow A-->C.\n",
        "\n",
        "# I am tryna give them the bare minimum of what they need to know to implement this. "
      ]
    },
    {
      "cell_type": "markdown",
      "metadata": {},
      "source": [
        "### Define your graph below.\n",
        "\n",
        "You can use one of the pre-defined graphs, like so:\n",
        "```\n",
        "my_graph = get_predefined_graph(type='____')\n",
        "```\n",
        "Valid types include 'bow', 'backdoor', etc. ***TODO***\n",
        "\n",
        "\n",
        "Alternatively, you create your own graph. Here is an example:\n",
        "```\n",
        "nodes = ['W', 'X', 'Y', 'Z']\n",
        "directed_edges = [('X', 'Y'),\n",
        "        ('X', 'W'),\n",
        "        ('Z', 'Y'),\n",
        "        ('Z', 'W'),\n",
        "        ('W', 'Y')]\n",
        "\n",
        "bidirected_edges = [('X', 'Z'), ('Z', 'Y')]\n",
        "\n",
        "my_graph = CausalGraph(nodes, directed_edges, bidirected_edges)\n",
        "```\n",
        "\n",
        "*Remember*: when defining the ```directed_edges```, the arrow goes from the first node to the second one. So for example, ```directed_edges = [('X', 'Y')]``` indicates one edge going from 'X' to 'Y'. When defining a bidirected edge, it does not matter which direction nodes are listed."
      ]
    },
    {
      "cell_type": "code",
      "execution_count": 2,
      "metadata": {},
      "outputs": [],
      "source": [
        "# using a pre-defined graph:\n",
        "my_graph = parseGraph(get_predefined_graph('backdoor'))\n",
        "\n",
        "# using a custom graph: \n",
        "# nodes = ['W', 'X', 'Y', 'Z']\n",
        "# directed_edges = [('X', 'Y'),\n",
        "#         ('X', 'W'),\n",
        "#         ('Z', 'Y'),\n",
        "#         ('Z', 'W'),\n",
        "#         ('W', 'Y')]\n",
        "\n",
        "# bidirected_edges = [('X', 'Z'), ('Z', 'Y')]\n",
        "\n",
        "# my_graph = CausalGraph(nodes, directed_edges, bidirected_edges)"
      ]
    },
    {
      "cell_type": "markdown",
      "metadata": {},
      "source": [
        "Double-check that this is the graph you want:"
      ]
    },
    {
      "cell_type": "code",
      "execution_count": 3,
      "metadata": {},
      "outputs": [
        {
          "data": {
            "image/svg+xml": [
              "<?xml version=\"1.0\" encoding=\"UTF-8\" standalone=\"no\"?>\n",
              "<!DOCTYPE svg PUBLIC \"-//W3C//DTD SVG 1.1//EN\"\n",
              " \"http://www.w3.org/Graphics/SVG/1.1/DTD/svg11.dtd\">\n",
              "<!-- Generated by graphviz version 12.2.1 (20241206.2353)\n",
              " -->\n",
              "<!-- Title: G Pages: 1 -->\n",
              "<svg width=\"170pt\" height=\"169pt\"\n",
              " viewBox=\"0.00 0.00 170.00 168.71\" xmlns=\"http://www.w3.org/2000/svg\" xmlns:xlink=\"http://www.w3.org/1999/xlink\">\n",
              "<g id=\"graph0\" class=\"graph\" transform=\"scale(1 1) rotate(0) translate(4 164.71)\">\n",
              "<title>G</title>\n",
              "<polygon fill=\"white\" stroke=\"none\" points=\"-4,4 -4,-164.71 166,-164.71 166,4 -4,4\"/>\n",
              "<!-- Z -->\n",
              "<g id=\"node1\" class=\"node\">\n",
              "<title>Z</title>\n",
              "<ellipse fill=\"none\" stroke=\"black\" cx=\"135\" cy=\"-80.35\" rx=\"27\" ry=\"18\"/>\n",
              "<text text-anchor=\"middle\" x=\"135\" y=\"-75.3\" font-family=\"Times,serif\" font-size=\"14.00\">Z</text>\n",
              "</g>\n",
              "<!-- X -->\n",
              "<g id=\"node2\" class=\"node\">\n",
              "<title>X</title>\n",
              "<ellipse fill=\"none\" stroke=\"black\" cx=\"27\" cy=\"-142.71\" rx=\"27\" ry=\"18\"/>\n",
              "<text text-anchor=\"middle\" x=\"27\" y=\"-137.66\" font-family=\"Times,serif\" font-size=\"14.00\">X</text>\n",
              "</g>\n",
              "<!-- Z&#45;&gt;X -->\n",
              "<g id=\"edge1\" class=\"edge\">\n",
              "<title>Z&#45;&gt;X</title>\n",
              "<path fill=\"none\" stroke=\"black\" d=\"M114.18,-92.38C98.12,-101.65 75.66,-114.61 57.56,-125.06\"/>\n",
              "<polygon fill=\"black\" stroke=\"black\" points=\"55.98,-121.93 49.07,-129.97 59.48,-128 55.98,-121.93\"/>\n",
              "</g>\n",
              "<!-- Y -->\n",
              "<g id=\"node3\" class=\"node\">\n",
              "<title>Y</title>\n",
              "<ellipse fill=\"none\" stroke=\"black\" cx=\"27\" cy=\"-18\" rx=\"27\" ry=\"18\"/>\n",
              "<text text-anchor=\"middle\" x=\"27\" y=\"-12.95\" font-family=\"Times,serif\" font-size=\"14.00\">Y</text>\n",
              "</g>\n",
              "<!-- Z&#45;&gt;Y -->\n",
              "<g id=\"edge2\" class=\"edge\">\n",
              "<title>Z&#45;&gt;Y</title>\n",
              "<path fill=\"none\" stroke=\"black\" d=\"M114.18,-68.33C98.12,-59.06 75.66,-46.09 57.56,-35.65\"/>\n",
              "<polygon fill=\"black\" stroke=\"black\" points=\"59.48,-32.71 49.07,-30.74 55.98,-38.77 59.48,-32.71\"/>\n",
              "</g>\n",
              "<!-- X&#45;&gt;Y -->\n",
              "<g id=\"edge3\" class=\"edge\">\n",
              "<title>X&#45;&gt;Y</title>\n",
              "<path fill=\"none\" stroke=\"black\" d=\"M27,-124.31C27,-104.14 27,-71.48 27,-47.68\"/>\n",
              "<polygon fill=\"black\" stroke=\"black\" points=\"30.5,-47.99 27,-37.99 23.5,-47.99 30.5,-47.99\"/>\n",
              "</g>\n",
              "</g>\n",
              "</svg>\n"
            ],
            "text/plain": [
              "<graphviz.sources.Source at 0x1077c6f90>"
            ]
          },
          "execution_count": 3,
          "metadata": {},
          "output_type": "execute_result"
        }
      ],
      "source": [
        "plot_causal_graph(my_graph)"
      ]
    },
    {
      "cell_type": "markdown",
      "metadata": {
        "id": "wTCqyhX8S4s4"
      },
      "source": [
        "# Train the Model\n"
      ]
    },
    {
      "cell_type": "markdown",
      "metadata": {},
      "source": [
        "### Complete the Structural Causal Model\n",
        "Now that you have defined the graph we have the variables and dependencies, but we still need to define ___"
      ]
    },
    {
      "cell_type": "code",
      "execution_count": 3,
      "metadata": {},
      "outputs": [
        {
          "name": "stdout",
          "output_type": "stream",
          "text": [
            "It is okay to exclude features from the model but they will not be used in the causal analysis.\n",
            "{'X': ['gender'], 'Z': ['race', 'age'], 'W': ['degree', 'num_awards'], 'Y': ['salary']}\n",
            "\n"
          ]
        },
        {
          "name": "stderr",
          "output_type": "stream",
          "text": [
            "/Users/Hanita/causal/ci2-fairness-ncm/trashfiles/dummy_functions.py:62: UserWarning: The following features were not assigned to any variable: {'incomplete'}\n",
            "  warnings.warn('The following features were not assigned to any variable: {}'.format(unassigned_features), UserWarning)\n"
          ]
        }
      ],
      "source": [
        "data = process_data('path_to_data')\n",
        "\n",
        "# This will define how we determine the probabilities for variables whose values \n",
        "# were not observed/recorded. \n",
        "distribution = 'probability distribution for exogenous variables'\n",
        "\n",
        "# Now define which columns of your data correspond to each node in your graph:\n",
        "assignments = {\n",
        "    'X': ['gender'],\n",
        "    'Z': ['race', 'age'],\n",
        "    'W': ['degree', 'num_awards'],\n",
        "    'Y': ['salary']\n",
        "}\n",
        "\n",
        "my_model = Model(data=data, distribution=distribution, graph=my_graph, assignments=assignments)\n",
        "### NOTE for reviewers: if the assignment contains a feature which is not in the data\n",
        "# or if there is a duplicate of the same feature, this will throw an error. \n",
        "# If there is a feature in the data that was not assigned to any variable it will output\n",
        "# a warning but otherwise be fine\n"
      ]
    },
    {
      "cell_type": "markdown",
      "metadata": {},
      "source": [
        "When training the network, you are able to manually adjust various settings called \"hyperparameters\". These include the following:\n",
        "* `pipeline_choice`: this specifies the type of neural network that will be ran. The options are as follows,\n",
        "    * `'mle'`: Maximum Likelihood Estimator\n",
        "    * `'gan'`: Generative Adversarial Network\n",
        "    * `'ffn'`: Feed Forward Network\n",
        "    The default is 'mle'. \n",
        "* `n-epochs`: the number of epochs, or passes through the dataset to complete during the training phase, to run. Default: 1000. \n",
        "* `batch-size`: number of training examples to use in each training epoch. \n",
        "* `gpu`: the GPU to use, if you have one. Default: none\n",
        "\n",
        "You may set some, none, or all of these values manually. Valid definitions include:\n",
        "```\n",
        "hyperparameters = {\n",
        "    'pipeline_choice': 'gan',\n",
        "    'n-epochs': 500\n",
        "}\n",
        "```\n",
        "```\n",
        "hyperparameters = {}\n",
        "```\n",
        "```\n",
        "hyperparameters = {\n",
        "    'pipeline_choice': 'ffn',\n",
        "    'n-epochs': 4600,\n",
        "    'batch-size': 4,\n",
        "    'gpu': gpu\n",
        "}\n",
        "```"
      ]
    },
    {
      "cell_type": "code",
      "execution_count": 6,
      "metadata": {},
      "outputs": [
        {
          "name": "stdout",
          "output_type": "stream",
          "text": [
            "training ran with: \n",
            " Graph: <src.causalaibook.graph.classes.graph.Graph object at 0x1135c2ae0> \n",
            " Model: <trashfiles.dummy_functions.Model object at 0x1134d0b30> \n",
            " Params: {'pipeline_choice': 'gan'}\n"
          ]
        }
      ],
      "source": [
        "hyperparameters = {\n",
        "    'pipeline_choice': 'gan'\n",
        "}\n",
        "\n",
        "run_training(my_graph, my_model, hyperparameters)"
      ]
    },
    {
      "cell_type": "markdown",
      "metadata": {
        "id": "BYOhC9bCTRMh"
      },
      "source": [
        "# Query the Model\n",
        "Now that you have a trained model, you can query the model. "
      ]
    },
    {
      "cell_type": "code",
      "execution_count": 7,
      "metadata": {},
      "outputs": [],
      "source": [
        "# Calculate output after setting certain values\n",
        "\n",
        "# Level 1: P(V=v), P(V=v|_)\n",
        "# Level 2: P(V=v|do(_))\n",
        "# Level 3: "
      ]
    },
    {
      "cell_type": "markdown",
      "metadata": {
        "id": "7Tv0OBYGTF5U"
      },
      "source": [
        "# Project onto the Standard Fairness Model\n",
        "\n",
        "The standard fairness model (SFM) is a model whose graph has four nodes:\n",
        "* *X*: The protected attribute. This ***fill in explanation***\n",
        "* *Z*: The counfounding variables. This ***fill in explanation***\n",
        "* *W*: The mediator variables. This ***fill in explanation***\n",
        "* *Y*: The outcome variable. This ***fill in explanation***\n",
        "\n",
        "When projecting onto the SFM, you should select one of your model's variables to be *X* and one to be *Y*, but you may assign multiple variables as confounders or mediators. Counfounders may have any relationship to the other confounders, and mediators may have any relationship with the other mediators, however there is a specific structure that must exist between *X*, *Z*, *W*, and *Y*:\n",
        "* *Y* must be a variable that has 0 arrows pointing toward *X*, *Z*, or *W*.\n",
        "* *W* must contain variables that have 0 arrows pointing toward *X* or *Z*.\n",
        "* *X* and *Z* cannot have arrows pointing towards each other, but they may have a bidirected arrow between them. "
      ]
    },
    {
      "cell_type": "markdown",
      "metadata": {},
      "source": [
        "**Here is an example**:\n",
        "Given the following graph. \n",
        "\n",
        "![example1graph.png](img/example1graph.png)\n",
        "\n",
        "Based on this graph, you could do either of the following projections:\n",
        "```\n",
        "projection1 = {\n",
        "    'X': 'e',\n",
        "    'Z': ['a', 'b'],\n",
        "    'W': ['c', 'd'],\n",
        "    'Y': 'f'\n",
        "}\n",
        "```\n",
        "\n",
        "or \n",
        "```\n",
        "projection2 = {\n",
        "    'X': 'a',\n",
        "    'Z': ['e'],\n",
        "    'W': ['b', 'c', 'd'],\n",
        "    'Y': 'f'\n",
        "}\n",
        "```\n",
        "\n",
        "![](img/ex1projection1.png) ![](img/ex1projection2.png)\n",
        "\n",
        "The following would **not** be a valid projection: \n",
        "```\n",
        "bad_projection = {\n",
        "    'X': 'a',\n",
        "    'Z': ['b', 'e'],\n",
        "    'W': ['c', 'd'],\n",
        "    'Y': 'f'\n",
        "}\n",
        "```\n",
        "because there is an arrow from the `X` variable (containing `'a'`) to the `Z` variable (containing `'b'`). This indicates that `X` may actually cause `Z`, rather than just being confounded with `Z`. "
      ]
    },
    {
      "cell_type": "code",
      "execution_count": 80,
      "metadata": {},
      "outputs": [
        {
          "data": {
            "image/svg+xml": [
              "<?xml version=\"1.0\" encoding=\"UTF-8\" standalone=\"no\"?>\n",
              "<!DOCTYPE svg PUBLIC \"-//W3C//DTD SVG 1.1//EN\"\n",
              " \"http://www.w3.org/Graphics/SVG/1.1/DTD/svg11.dtd\">\n",
              "<!-- Generated by graphviz version 12.2.1 (20241206.2353)\n",
              " -->\n",
              "<!-- Title: G Pages: 1 -->\n",
              "<svg width=\"457pt\" height=\"293pt\"\n",
              " viewBox=\"0.00 0.00 457.05 293.42\" xmlns=\"http://www.w3.org/2000/svg\" xmlns:xlink=\"http://www.w3.org/1999/xlink\">\n",
              "<g id=\"graph0\" class=\"graph\" transform=\"scale(1 1) rotate(0) translate(4 289.42)\">\n",
              "<title>G</title>\n",
              "<polygon fill=\"white\" stroke=\"none\" points=\"-4,4 -4,-289.42 453.05,-289.42 453.05,4 -4,4\"/>\n",
              "<!-- a -->\n",
              "<g id=\"node1\" class=\"node\">\n",
              "<title>a</title>\n",
              "<ellipse fill=\"none\" stroke=\"black\" cx=\"404.35\" cy=\"-142.71\" rx=\"44.7\" ry=\"18\"/>\n",
              "<text text-anchor=\"middle\" x=\"404.35\" y=\"-137.66\" font-family=\"Times,serif\" font-size=\"14.00\">a: [&#39;race&#39;]</text>\n",
              "</g>\n",
              "<!-- b -->\n",
              "<g id=\"node2\" class=\"node\">\n",
              "<title>b</title>\n",
              "<ellipse fill=\"none\" stroke=\"black\" cx=\"332.35\" cy=\"-267.42\" rx=\"64.15\" ry=\"18\"/>\n",
              "<text text-anchor=\"middle\" x=\"332.35\" y=\"-262.37\" font-family=\"Times,serif\" font-size=\"14.00\">b: [&#39;skincolor&#39;]</text>\n",
              "</g>\n",
              "<!-- a&#45;&gt;b -->\n",
              "<g id=\"edge1\" class=\"edge\">\n",
              "<title>a&#45;&gt;b</title>\n",
              "<path fill=\"none\" stroke=\"black\" d=\"M394.04,-160.58C382.13,-181.2 362.4,-215.38 348.46,-239.51\"/>\n",
              "<polygon fill=\"black\" stroke=\"black\" points=\"345.61,-237.45 343.64,-247.86 351.67,-240.95 345.61,-237.45\"/>\n",
              "</g>\n",
              "<!-- c -->\n",
              "<g id=\"node3\" class=\"node\">\n",
              "<title>c</title>\n",
              "<ellipse fill=\"none\" stroke=\"black\" cx=\"188.35\" cy=\"-267.42\" rx=\"42.65\" ry=\"18\"/>\n",
              "<text text-anchor=\"middle\" x=\"188.35\" y=\"-262.37\" font-family=\"Times,serif\" font-size=\"14.00\">c: [&#39;edu&#39;]</text>\n",
              "</g>\n",
              "<!-- a&#45;&gt;c -->\n",
              "<g id=\"edge3\" class=\"edge\">\n",
              "<title>a&#45;&gt;c</title>\n",
              "<path fill=\"none\" stroke=\"black\" d=\"M378.3,-157.75C339.65,-180.06 267.06,-221.97 223.67,-247.03\"/>\n",
              "<polygon fill=\"black\" stroke=\"black\" points=\"222.05,-243.92 215.14,-251.95 225.55,-249.98 222.05,-243.92\"/>\n",
              "</g>\n",
              "<!-- f -->\n",
              "<g id=\"node6\" class=\"node\">\n",
              "<title>f</title>\n",
              "<ellipse fill=\"none\" stroke=\"black\" cx=\"332.35\" cy=\"-18\" rx=\"50.33\" ry=\"18\"/>\n",
              "<text text-anchor=\"middle\" x=\"332.35\" y=\"-12.95\" font-family=\"Times,serif\" font-size=\"14.00\">f: [&#39;salary&#39;]</text>\n",
              "</g>\n",
              "<!-- a&#45;&gt;f -->\n",
              "<g id=\"edge2\" class=\"edge\">\n",
              "<title>a&#45;&gt;f</title>\n",
              "<path fill=\"none\" stroke=\"black\" d=\"M394.04,-124.84C382.06,-104.1 362.17,-69.65 348.22,-45.49\"/>\n",
              "<polygon fill=\"black\" stroke=\"black\" points=\"351.44,-44.06 343.4,-37.15 345.37,-47.56 351.44,-44.06\"/>\n",
              "</g>\n",
              "<!-- b&#45;&gt;c -->\n",
              "<g id=\"edge5\" class=\"edge\">\n",
              "<title>b&#45;&gt;c</title>\n",
              "<path fill=\"none\" stroke=\"black\" d=\"M267.93,-267.42C259.48,-267.42 250.89,-267.42 242.64,-267.42\"/>\n",
              "<polygon fill=\"black\" stroke=\"black\" points=\"242.74,-263.92 232.74,-267.42 242.74,-270.92 242.74,-263.92\"/>\n",
              "</g>\n",
              "<!-- d -->\n",
              "<g id=\"node4\" class=\"node\">\n",
              "<title>d</title>\n",
              "<ellipse fill=\"none\" stroke=\"black\" cx=\"116.35\" cy=\"-142.71\" rx=\"116.35\" ry=\"18\"/>\n",
              "<text text-anchor=\"middle\" x=\"116.35\" y=\"-137.66\" font-family=\"Times,serif\" font-size=\"14.00\">d: [&#39;job_title&#39;, &#39;num_awards&#39;]</text>\n",
              "</g>\n",
              "<!-- b&#45;&gt;d -->\n",
              "<g id=\"edge6\" class=\"edge\">\n",
              "<title>b&#45;&gt;d</title>\n",
              "<path fill=\"none\" stroke=\"black\" d=\"M303.67,-250.86C266.06,-229.14 199.85,-190.92 157.06,-166.21\"/>\n",
              "<polygon fill=\"black\" stroke=\"black\" points=\"158.97,-163.27 148.56,-161.3 155.47,-169.34 158.97,-163.27\"/>\n",
              "</g>\n",
              "<!-- b&#45;&gt;f -->\n",
              "<g id=\"edge4\" class=\"edge\">\n",
              "<title>b&#45;&gt;f</title>\n",
              "<path fill=\"none\" stroke=\"black\" d=\"M332.35,-249.08C332.35,-206.37 332.35,-99.99 332.35,-47.81\"/>\n",
              "<polygon fill=\"black\" stroke=\"black\" points=\"335.85,-47.88 332.35,-37.88 328.85,-47.88 335.85,-47.88\"/>\n",
              "</g>\n",
              "<!-- c&#45;&gt;d -->\n",
              "<g id=\"edge7\" class=\"edge\">\n",
              "<title>c&#45;&gt;d</title>\n",
              "<path fill=\"none\" stroke=\"black\" d=\"M178.04,-249.55C166.13,-228.92 146.4,-194.75 132.46,-170.61\"/>\n",
              "<polygon fill=\"black\" stroke=\"black\" points=\"135.67,-169.17 127.64,-162.26 129.61,-172.67 135.67,-169.17\"/>\n",
              "</g>\n",
              "<!-- c&#45;&gt;f -->\n",
              "<g id=\"edge8\" class=\"edge\">\n",
              "<title>c&#45;&gt;f</title>\n",
              "<path fill=\"none\" stroke=\"black\" d=\"M198.71,-249.48C223.56,-206.43 286.74,-97.01 316.45,-45.54\"/>\n",
              "<polygon fill=\"black\" stroke=\"black\" points=\"319.36,-47.5 321.33,-37.09 313.3,-44 319.36,-47.5\"/>\n",
              "</g>\n",
              "<!-- d&#45;&gt;f -->\n",
              "<g id=\"edge9\" class=\"edge\">\n",
              "<title>d&#45;&gt;f</title>\n",
              "<path fill=\"none\" stroke=\"black\" d=\"M146.84,-125.1C185.95,-102.53 253.71,-63.41 295.61,-39.21\"/>\n",
              "<polygon fill=\"black\" stroke=\"black\" points=\"297.2,-42.34 304.11,-34.3 293.7,-36.27 297.2,-42.34\"/>\n",
              "</g>\n",
              "<!-- e -->\n",
              "<g id=\"node5\" class=\"node\">\n",
              "<title>e</title>\n",
              "<ellipse fill=\"none\" stroke=\"black\" cx=\"188.35\" cy=\"-18\" rx=\"54.42\" ry=\"18\"/>\n",
              "<text text-anchor=\"middle\" x=\"188.35\" y=\"-12.95\" font-family=\"Times,serif\" font-size=\"14.00\">e: [&#39;gender&#39;]</text>\n",
              "</g>\n",
              "<!-- e&#45;&gt;a -->\n",
              "<g id=\"edge10\" class=\"edge\">\n",
              "<title>e&#45;&gt;a</title>\n",
              "<path fill=\"none\" stroke=\"black\" stroke-dasharray=\"5,2\" d=\"M225.62,-39.52C265.7,-62.66 328.95,-99.18 368.48,-122\"/>\n",
              "<polygon fill=\"black\" stroke=\"black\" points=\"227.43,-36.52 217.02,-34.55 223.93,-42.58 227.43,-36.52\"/>\n",
              "<polygon fill=\"black\" stroke=\"black\" points=\"366.51,-124.9 376.92,-126.87 370.01,-118.84 366.51,-124.9\"/>\n",
              "</g>\n",
              "<!-- e&#45;&gt;c -->\n",
              "<g id=\"edge12\" class=\"edge\">\n",
              "<title>e&#45;&gt;c</title>\n",
              "<path fill=\"none\" stroke=\"black\" d=\"M188.35,-36.34C188.35,-79.04 188.35,-185.43 188.35,-237.61\"/>\n",
              "<polygon fill=\"black\" stroke=\"black\" points=\"184.85,-237.53 188.35,-247.53 191.85,-237.53 184.85,-237.53\"/>\n",
              "</g>\n",
              "<!-- e&#45;&gt;d -->\n",
              "<g id=\"edge13\" class=\"edge\">\n",
              "<title>e&#45;&gt;d</title>\n",
              "<path fill=\"none\" stroke=\"black\" d=\"M177.88,-36.13C165.99,-56.73 146.44,-90.59 132.57,-114.61\"/>\n",
              "<polygon fill=\"black\" stroke=\"black\" points=\"129.56,-112.83 127.59,-123.24 135.62,-116.33 129.56,-112.83\"/>\n",
              "</g>\n",
              "<!-- e&#45;&gt;f -->\n",
              "<g id=\"edge11\" class=\"edge\">\n",
              "<title>e&#45;&gt;f</title>\n",
              "<path fill=\"none\" stroke=\"black\" d=\"M243.2,-18C252.14,-18 261.46,-18 270.55,-18\"/>\n",
              "<polygon fill=\"black\" stroke=\"black\" points=\"270.4,-21.5 280.4,-18 270.4,-14.5 270.4,-21.5\"/>\n",
              "</g>\n",
              "</g>\n",
              "</svg>\n"
            ],
            "text/plain": [
              "<graphviz.sources.Source at 0x116076960>"
            ]
          },
          "execution_count": 80,
          "metadata": {},
          "output_type": "execute_result"
        }
      ],
      "source": [
        "cg = example1()\n",
        "cg.plot(2)"
      ]
    },
    {
      "cell_type": "code",
      "execution_count": 79,
      "metadata": {},
      "outputs": [
        {
          "data": {
            "image/svg+xml": [
              "<?xml version=\"1.0\" encoding=\"UTF-8\" standalone=\"no\"?>\n",
              "<!DOCTYPE svg PUBLIC \"-//W3C//DTD SVG 1.1//EN\"\n",
              " \"http://www.w3.org/Graphics/SVG/1.1/DTD/svg11.dtd\">\n",
              "<!-- Generated by graphviz version 12.2.1 (20241206.2353)\n",
              " -->\n",
              "<!-- Title: G Pages: 1 -->\n",
              "<svg width=\"292pt\" height=\"188pt\"\n",
              " viewBox=\"0.00 0.00 291.88 188.00\" xmlns=\"http://www.w3.org/2000/svg\" xmlns:xlink=\"http://www.w3.org/1999/xlink\">\n",
              "<g id=\"graph0\" class=\"graph\" transform=\"scale(1 1) rotate(0) translate(4 184)\">\n",
              "<title>G</title>\n",
              "<polygon fill=\"white\" stroke=\"none\" points=\"-4,4 -4,-184 287.88,-184 287.88,4 -4,4\"/>\n",
              "<!-- Y -->\n",
              "<g id=\"node1\" class=\"node\">\n",
              "<title>Y</title>\n",
              "<ellipse fill=\"none\" stroke=\"black\" cx=\"213.94\" cy=\"-90\" rx=\"53.4\" ry=\"18\"/>\n",
              "<text text-anchor=\"middle\" x=\"213.94\" y=\"-84.95\" font-family=\"Times,serif\" font-size=\"14.00\">Y: [&#39;salary&#39;]</text>\n",
              "</g>\n",
              "<!-- Z -->\n",
              "<g id=\"node2\" class=\"node\">\n",
              "<title>Z</title>\n",
              "<ellipse fill=\"none\" stroke=\"black\" cx=\"141.94\" cy=\"-162\" rx=\"88.71\" ry=\"18\"/>\n",
              "<text text-anchor=\"middle\" x=\"141.94\" y=\"-156.95\" font-family=\"Times,serif\" font-size=\"14.00\">Z: [&#39;race&#39;, &#39;skincolor&#39;]</text>\n",
              "</g>\n",
              "<!-- Z&#45;&gt;Y -->\n",
              "<g id=\"edge1\" class=\"edge\">\n",
              "<title>Z&#45;&gt;Y</title>\n",
              "<path fill=\"none\" stroke=\"black\" d=\"M159.74,-144.2C168.44,-135.51 179.05,-124.89 188.58,-115.36\"/>\n",
              "<polygon fill=\"black\" stroke=\"black\" points=\"190.93,-117.96 195.53,-108.41 185.98,-113.01 190.93,-117.96\"/>\n",
              "</g>\n",
              "<!-- W -->\n",
              "<g id=\"node4\" class=\"node\">\n",
              "<title>W</title>\n",
              "<ellipse fill=\"none\" stroke=\"black\" cx=\"141.94\" cy=\"-18\" rx=\"141.94\" ry=\"18\"/>\n",
              "<text text-anchor=\"middle\" x=\"141.94\" y=\"-12.95\" font-family=\"Times,serif\" font-size=\"14.00\">W: [&#39;edu&#39;, &#39;job_title&#39;, &#39;num_awards&#39;]</text>\n",
              "</g>\n",
              "<!-- Z&#45;&gt;W -->\n",
              "<g id=\"edge2\" class=\"edge\">\n",
              "<title>Z&#45;&gt;W</title>\n",
              "<path fill=\"none\" stroke=\"black\" d=\"M141.94,-143.76C141.94,-119.53 141.94,-76.41 141.94,-47.51\"/>\n",
              "<polygon fill=\"black\" stroke=\"black\" points=\"145.44,-47.6 141.94,-37.6 138.44,-47.6 145.44,-47.6\"/>\n",
              "</g>\n",
              "<!-- X -->\n",
              "<g id=\"node3\" class=\"node\">\n",
              "<title>X</title>\n",
              "<ellipse fill=\"none\" stroke=\"black\" cx=\"69.94\" cy=\"-90\" rx=\"56.98\" ry=\"18\"/>\n",
              "<text text-anchor=\"middle\" x=\"69.94\" y=\"-84.95\" font-family=\"Times,serif\" font-size=\"14.00\">X: [&#39;gender&#39;]</text>\n",
              "</g>\n",
              "<!-- X&#45;&gt;Y -->\n",
              "<g id=\"edge3\" class=\"edge\">\n",
              "<title>X&#45;&gt;Y</title>\n",
              "<path fill=\"none\" stroke=\"black\" d=\"M127.27,-90C134.29,-90 141.5,-90 148.62,-90\"/>\n",
              "<polygon fill=\"black\" stroke=\"black\" points=\"148.58,-93.5 158.58,-90 148.58,-86.5 148.58,-93.5\"/>\n",
              "</g>\n",
              "<!-- X&#45;&gt;Z -->\n",
              "<g id=\"edge5\" class=\"edge\">\n",
              "<title>X&#45;&gt;Z</title>\n",
              "<path fill=\"none\" stroke=\"black\" stroke-dasharray=\"5,2\" d=\"M95.32,-115.38C101.96,-122.02 109.12,-129.18 115.8,-135.86\"/>\n",
              "<polygon fill=\"black\" stroke=\"black\" points=\"97.99,-113.1 88.44,-108.5 93.04,-118.05 97.99,-113.1\"/>\n",
              "<polygon fill=\"black\" stroke=\"black\" points=\"113.3,-138.31 122.85,-142.91 118.25,-133.36 113.3,-138.31\"/>\n",
              "</g>\n",
              "<!-- X&#45;&gt;W -->\n",
              "<g id=\"edge4\" class=\"edge\">\n",
              "<title>X&#45;&gt;W</title>\n",
              "<path fill=\"none\" stroke=\"black\" d=\"M87.37,-72.57C95.87,-64.07 106.27,-53.67 115.7,-44.24\"/>\n",
              "<polygon fill=\"black\" stroke=\"black\" points=\"118,-46.89 122.6,-37.34 113.05,-41.94 118,-46.89\"/>\n",
              "</g>\n",
              "<!-- W&#45;&gt;Y -->\n",
              "<g id=\"edge6\" class=\"edge\">\n",
              "<title>W&#45;&gt;Y</title>\n",
              "<path fill=\"none\" stroke=\"black\" d=\"M160.11,-36.17C168.75,-44.8 179.21,-55.27 188.61,-64.67\"/>\n",
              "<polygon fill=\"black\" stroke=\"black\" points=\"185.91,-66.92 195.45,-71.51 190.86,-61.97 185.91,-66.92\"/>\n",
              "</g>\n",
              "</g>\n",
              "</svg>\n"
            ],
            "text/plain": [
              "<graphviz.sources.Source at 0x1161a3fe0>"
            ]
          },
          "execution_count": 79,
          "metadata": {},
          "output_type": "execute_result"
        }
      ],
      "source": [
        "projection = {\n",
        "    'X': 'e',\n",
        "    'Z': ['a', 'b'],\n",
        "    'W': ['c', 'd'],\n",
        "    'Y': 'f'\n",
        "}\n",
        "# def project_to_sfm(graph, projection):\n",
        "#     W,X,Y,Z = 'W','X','Y','Z'\n",
        "#     nodes = [Y,Z,X,W]\n",
        "#     edges = [\n",
        "#         [X,Z,'bidirected'],\n",
        "#         [X,W],\n",
        "#         [X,Y],\n",
        "#         [Z,W],\n",
        "#         [Z,Y],\n",
        "#     ]\n",
        "def get_sfm_graph():\n",
        "    return '''<NODES>\n",
        "Y\n",
        "Z\n",
        "X\n",
        "W\n",
        "\n",
        "<EDGES>\n",
        "X -> Y\n",
        "X -> W\n",
        "Z -> Y\n",
        "Z -> W\n",
        "W -> Y\n",
        "X -- Z\n",
        "'''\n",
        "\n",
        "# z = c, z = d\n",
        "# graph.assignments[z=c] = ['edu'], graph.assignments[z=d]=['job','award']\n",
        "\n",
        "# want graph.assignments[c][0], graph.assignments[d][0], graph.assignments[d][1]\n",
        "\n",
        "\n",
        "# [[edu],[job, num]]\n",
        "# \n",
        "\n",
        "cg = CG(nodes=nodes,edges=edges,assignments=assignments)\n",
        "\n",
        "def project_to_sfm(graph, projection):\n",
        "    assignments = {\n",
        "        'X': [*graph.assignments[projection['X']]],\n",
        "        'Z': sum([graph.assignments[z] for z in projection['Z']],[]),\n",
        "        'W': sum([graph.assignments[z] for z in projection['W']],[]),\n",
        "        'Y': [*graph.assignments[projection['Y']]]\n",
        "    }\n",
        "    sfm = CG(graph=parseGraph(get_sfm_graph()), assignments=assignments)\n",
        "    return sfm \n",
        "\n",
        "sfm = project_to_sfm(cg, projection)\n",
        "sfm.plot()"
      ]
    },
    {
      "cell_type": "markdown",
      "metadata": {
        "id": "NATPdYARTaaq"
      },
      "source": [
        "# Run Fairness Tasks"
      ]
    }
  ],
  "metadata": {
    "colab": {
      "authorship_tag": "ABX9TyOoTiWA3cC9RHRSH13/DGw1",
      "include_colab_link": true,
      "provenance": [],
      "toc_visible": true
    },
    "kernelspec": {
      "display_name": "Python 3",
      "name": "python3"
    },
    "language_info": {
      "codemirror_mode": {
        "name": "ipython",
        "version": 3
      },
      "file_extension": ".py",
      "mimetype": "text/x-python",
      "name": "python",
      "nbconvert_exporter": "python",
      "pygments_lexer": "ipython3",
      "version": "3.12.6"
    }
  },
  "nbformat": 4,
  "nbformat_minor": 0
}
