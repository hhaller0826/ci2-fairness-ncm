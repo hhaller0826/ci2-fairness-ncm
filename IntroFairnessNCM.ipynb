{
  "cells": [
    {
      "cell_type": "markdown",
      "metadata": {
        "colab_type": "text",
        "id": "view-in-github"
      },
      "source": [
        "<a href=\"https://colab.research.google.com/github/hhaller0826/ci2-fairness-ncm/blob/main/IntroFairnessNCM.ipynb\" target=\"_parent\"><img src=\"https://colab.research.google.com/assets/colab-badge.svg\" alt=\"Open In Colab\"/></a>"
      ]
    },
    {
      "cell_type": "markdown",
      "metadata": {
        "id": "IgunRRxRSECt"
      },
      "source": [
        "# Introduction/Explanation\n",
        "\n",
        "Causal Inference \n",
        "\n",
        "\"while probabilities encode our beliefs about a static world, causality tells us whether and how probabilities change when the world changes, be it by intervention or by act of imagination\". -- Book of Why"
      ]
    },
    {
      "cell_type": "code",
      "execution_count": 1,
      "metadata": {},
      "outputs": [],
      "source": [
        "from src.graph.default_graphs import *\n",
        "from src.graph.utils import *\n",
        "\n",
        "from trashfiles.dummy_functions import *\n",
        "\n",
        "from src.causalaibook.fusion import * "
      ]
    },
    {
      "cell_type": "markdown",
      "metadata": {
        "id": "aj1bp-5ESFoq"
      },
      "source": [
        "# Create a Causal Graph\n",
        "\n",
        "A causal graph (or \"causal diagram\") represents the relationships between the features in your data. Each node on the graph may represent one or more of these features. Please note that if a single node represents multiple features, we will not be able to distinguish between these features when doing causal analysis. \n",
        "\n",
        "If the values in one node may impact the values in another node, the graph will have a directed edge from the first node to the one that it affects. \n",
        "\n",
        "Sometimes there are confounders between two variables (lets call them A and B), meaning they are both directly impacted by the same third variable C. If C is one of the nodes on your graph, then there will be one directed edge from C to A, and another from C to B. If C is *not* one of the nodes on your graph, then we will create a bi-directed edge between A and B to signify that they are confounded. "
      ]
    },
    {
      "cell_type": "markdown",
      "metadata": {},
      "source": [
        "Examples of some graphs:"
      ]
    },
    {
      "cell_type": "code",
      "execution_count": 2,
      "metadata": {},
      "outputs": [],
      "source": [
        "# TODO: add examples and plot them\n",
        "# TODO: express how maybe X = ['race','age'] OR X1 = 'race' and X2 = 'age' \n",
        "# TODO: express how you don't need an arrow for indirect effects. Like if A-->B-->C we may not need an arrow A-->C.\n",
        "\n",
        "# I am tryna give them the bare minimum of what they need to know to implement this. "
      ]
    },
    {
      "cell_type": "markdown",
      "metadata": {},
      "source": [
        "### Define your graph below.\n",
        "\n",
        "You can use one of the pre-defined graphs, like so:\n",
        "```\n",
        "my_graph = get_predefined_graph(type='____')\n",
        "```\n",
        "Valid types include 'bow', 'backdoor', etc. ***TODO***\n",
        "\n",
        "\n",
        "Alternatively, you create your own graph. Here is an example:\n",
        "```\n",
        "nodes = ['W', 'X', 'Y', 'Z']\n",
        "edges = [('X', 'Y'),\n",
        "        ('X', 'W'),\n",
        "        ('Z', 'Y'),\n",
        "        ('Z', 'W'),\n",
        "        ('W', 'Y'),\n",
        "        ('X', 'Z', 'bidirected'),\n",
        "        ('Z', 'Y', 'bidirected')]\n",
        "\n",
        "my_graph = CausalGraph(nodes=nodes, edges=edges)\n",
        "```\n",
        "\n",
        "*Remember*: when defining the directed, the arrow goes from the first node to the second one. So for example, ```edges = [('X', 'Y')]``` indicates one edge going from 'X' to 'Y'. When defining a bidirected edge, it does not matter which direction nodes are listed, but you must add the key term `'bidirected'` after listing the two nodes."
      ]
    },
    {
      "cell_type": "code",
      "execution_count": 3,
      "metadata": {},
      "outputs": [],
      "source": [
        "# using a pre-defined graph:\n",
        "my_graph = parseGraph(get_predefined_graph('backdoor'))\n",
        "\n",
        "# using a custom graph: \n",
        "nodes = ['A', 'B', 'C', 'D', 'E']\n",
        "edges = [\n",
        "    ('C', 'A', 'bidirected'),\n",
        "    ('C', 'E'),\n",
        "    ('C', 'D'),\n",
        "    ('A', 'B'),\n",
        "    ('A','E'),\n",
        "    ('B','D'),\n",
        "    ('B','E'),\n",
        "    ('D','E')\n",
        "]\n",
        "\n",
        "my_graph = CausalGraph(nodes=nodes, edges=edges)"
      ]
    },
    {
      "cell_type": "markdown",
      "metadata": {},
      "source": [
        "Double-check that this is the graph you want:"
      ]
    },
    {
      "cell_type": "code",
      "execution_count": 4,
      "metadata": {},
      "outputs": [
        {
          "data": {
            "image/svg+xml": [
              "<?xml version=\"1.0\" encoding=\"UTF-8\" standalone=\"no\"?>\n",
              "<!DOCTYPE svg PUBLIC \"-//W3C//DTD SVG 1.1//EN\"\n",
              " \"http://www.w3.org/Graphics/SVG/1.1/DTD/svg11.dtd\">\n",
              "<!-- Generated by graphviz version 12.2.1 (20241206.2353)\n",
              " -->\n",
              "<!-- Title: G Pages: 1 -->\n",
              "<svg width=\"192pt\" height=\"181pt\"\n",
              " viewBox=\"0.00 0.00 192.25 180.95\" xmlns=\"http://www.w3.org/2000/svg\" xmlns:xlink=\"http://www.w3.org/1999/xlink\">\n",
              "<g id=\"graph0\" class=\"graph\" transform=\"scale(1 1) rotate(0) translate(4 176.95)\">\n",
              "<title>G</title>\n",
              "<polygon fill=\"white\" stroke=\"none\" points=\"-4,4 -4,-176.95 188.25,-176.95 188.25,4 -4,4\"/>\n",
              "<!-- A -->\n",
              "<g id=\"node1\" class=\"node\">\n",
              "<title>A</title>\n",
              "<ellipse fill=\"none\" stroke=\"black\" cx=\"157.25\" cy=\"-86.48\" rx=\"27\" ry=\"18\"/>\n",
              "<text text-anchor=\"middle\" x=\"157.25\" y=\"-81.43\" font-family=\"Times,serif\" font-size=\"14.00\">A</text>\n",
              "</g>\n",
              "<!-- B -->\n",
              "<g id=\"node2\" class=\"node\">\n",
              "<title>B</title>\n",
              "<ellipse fill=\"none\" stroke=\"black\" cx=\"107.5\" cy=\"-154.95\" rx=\"27\" ry=\"18\"/>\n",
              "<text text-anchor=\"middle\" x=\"107.5\" y=\"-149.9\" font-family=\"Times,serif\" font-size=\"14.00\">B</text>\n",
              "</g>\n",
              "<!-- A&#45;&gt;B -->\n",
              "<g id=\"edge1\" class=\"edge\">\n",
              "<title>A&#45;&gt;B</title>\n",
              "<path fill=\"none\" stroke=\"black\" d=\"M145.21,-103.05C139.46,-110.96 132.46,-120.6 126.06,-129.41\"/>\n",
              "<polygon fill=\"black\" stroke=\"black\" points=\"123.37,-127.16 120.32,-137.3 129.03,-131.27 123.37,-127.16\"/>\n",
              "</g>\n",
              "<!-- E -->\n",
              "<g id=\"node5\" class=\"node\">\n",
              "<title>E</title>\n",
              "<ellipse fill=\"none\" stroke=\"black\" cx=\"107.5\" cy=\"-18\" rx=\"27\" ry=\"18\"/>\n",
              "<text text-anchor=\"middle\" x=\"107.5\" y=\"-12.95\" font-family=\"Times,serif\" font-size=\"14.00\">E</text>\n",
              "</g>\n",
              "<!-- A&#45;&gt;E -->\n",
              "<g id=\"edge2\" class=\"edge\">\n",
              "<title>A&#45;&gt;E</title>\n",
              "<path fill=\"none\" stroke=\"black\" d=\"M145.21,-69.9C139.46,-61.99 132.46,-52.36 126.06,-43.54\"/>\n",
              "<polygon fill=\"black\" stroke=\"black\" points=\"129.03,-41.68 120.32,-35.65 123.37,-45.8 129.03,-41.68\"/>\n",
              "</g>\n",
              "<!-- D -->\n",
              "<g id=\"node4\" class=\"node\">\n",
              "<title>D</title>\n",
              "<ellipse fill=\"none\" stroke=\"black\" cx=\"27\" cy=\"-44.16\" rx=\"27\" ry=\"18\"/>\n",
              "<text text-anchor=\"middle\" x=\"27\" y=\"-39.11\" font-family=\"Times,serif\" font-size=\"14.00\">D</text>\n",
              "</g>\n",
              "<!-- B&#45;&gt;D -->\n",
              "<g id=\"edge3\" class=\"edge\">\n",
              "<title>B&#45;&gt;D</title>\n",
              "<path fill=\"none\" stroke=\"black\" d=\"M95.62,-138.6C82.42,-120.44 60.94,-90.87 45.53,-69.66\"/>\n",
              "<polygon fill=\"black\" stroke=\"black\" points=\"48.53,-67.83 39.82,-61.8 42.86,-71.94 48.53,-67.83\"/>\n",
              "</g>\n",
              "<!-- B&#45;&gt;E -->\n",
              "<g id=\"edge4\" class=\"edge\">\n",
              "<title>B&#45;&gt;E</title>\n",
              "<path fill=\"none\" stroke=\"black\" d=\"M107.5,-136.48C107.5,-113.69 107.5,-74.64 107.5,-47.64\"/>\n",
              "<polygon fill=\"black\" stroke=\"black\" points=\"111,-47.69 107.5,-37.69 104,-47.69 111,-47.69\"/>\n",
              "</g>\n",
              "<!-- C -->\n",
              "<g id=\"node3\" class=\"node\">\n",
              "<title>C</title>\n",
              "<ellipse fill=\"none\" stroke=\"black\" cx=\"27\" cy=\"-128.8\" rx=\"27\" ry=\"18\"/>\n",
              "<text text-anchor=\"middle\" x=\"27\" y=\"-123.75\" font-family=\"Times,serif\" font-size=\"14.00\">C</text>\n",
              "</g>\n",
              "<!-- C&#45;&gt;A -->\n",
              "<g id=\"edge5\" class=\"edge\">\n",
              "<title>C&#45;&gt;A</title>\n",
              "<path fill=\"none\" stroke=\"black\" stroke-dasharray=\"5,2\" d=\"M62.25,-117.34C80.77,-111.33 103.4,-103.97 121.93,-97.95\"/>\n",
              "<polygon fill=\"black\" stroke=\"black\" points=\"61.37,-113.95 52.94,-120.37 63.53,-120.61 61.37,-113.95\"/>\n",
              "<polygon fill=\"black\" stroke=\"black\" points=\"122.99,-101.29 131.42,-94.87 120.83,-94.63 122.99,-101.29\"/>\n",
              "</g>\n",
              "<!-- C&#45;&gt;D -->\n",
              "<g id=\"edge7\" class=\"edge\">\n",
              "<title>C&#45;&gt;D</title>\n",
              "<path fill=\"none\" stroke=\"black\" d=\"M27,-110.43C27,-99.78 27,-86.12 27,-73.97\"/>\n",
              "<polygon fill=\"black\" stroke=\"black\" points=\"30.5,-74 27,-64 23.5,-74 30.5,-74\"/>\n",
              "</g>\n",
              "<!-- C&#45;&gt;E -->\n",
              "<g id=\"edge6\" class=\"edge\">\n",
              "<title>C&#45;&gt;E</title>\n",
              "<path fill=\"none\" stroke=\"black\" d=\"M38.88,-112.45C52.08,-94.28 73.56,-64.72 88.97,-43.5\"/>\n",
              "<polygon fill=\"black\" stroke=\"black\" points=\"91.64,-45.79 94.68,-35.64 85.97,-41.67 91.64,-45.79\"/>\n",
              "</g>\n",
              "<!-- D&#45;&gt;E -->\n",
              "<g id=\"edge8\" class=\"edge\">\n",
              "<title>D&#45;&gt;E</title>\n",
              "<path fill=\"none\" stroke=\"black\" d=\"M51.59,-36.17C58.08,-34.06 65.22,-31.74 72.16,-29.48\"/>\n",
              "<polygon fill=\"black\" stroke=\"black\" points=\"72.91,-32.92 81.34,-26.5 70.75,-26.26 72.91,-32.92\"/>\n",
              "</g>\n",
              "</g>\n",
              "</svg>\n"
            ],
            "text/plain": [
              "<graphviz.sources.Source at 0x1092c7590>"
            ]
          },
          "execution_count": 4,
          "metadata": {},
          "output_type": "execute_result"
        }
      ],
      "source": [
        "plot_causal_graph(my_graph)"
      ]
    },
    {
      "cell_type": "markdown",
      "metadata": {
        "id": "wTCqyhX8S4s4"
      },
      "source": [
        "# Train the Model\n"
      ]
    },
    {
      "cell_type": "markdown",
      "metadata": {},
      "source": [
        "### Complete the Structural Causal Model\n",
        "Now that you have defined the graph we have the variables and dependencies, but we still need to define ___"
      ]
    },
    {
      "cell_type": "code",
      "execution_count": 5,
      "metadata": {},
      "outputs": [
        {
          "name": "stdout",
          "output_type": "stream",
          "text": [
            "It is okay to exclude features from the model but they will not be used in the causal analysis.\n",
            "Model assignments: {'A': ['race'], 'B': ['skincolor'], 'C': ['gender'], 'D': ['job_title', 'degree', 'num_awards'], 'E': ['salary']}\n",
            "\n"
          ]
        },
        {
          "name": "stderr",
          "output_type": "stream",
          "text": [
            "/Users/Hanita/causal/ci2-fairness-ncm/trashfiles/dummy_functions.py:68: UserWarning: The following features were not assigned to any variable: {'age'}\n",
            "  warnings.warn('The following features were not assigned to any variable: {}'.format(unassigned_features), UserWarning)\n"
          ]
        }
      ],
      "source": [
        "data = process_data('path_to_data')\n",
        "\n",
        "# This will define how we determine the probabilities for variables whose values \n",
        "# were not observed/recorded. \n",
        "distribution = 'probability distribution for exogenous variables'\n",
        "\n",
        "# Now define which columns of your data correspond to each node in your graph:\n",
        "assignments = {\n",
        "    'A': ['race'],\n",
        "    'B': ['skincolor'],\n",
        "    'C': ['gender'],\n",
        "    'D': ['job_title', 'degree', 'num_awards'],\n",
        "    'E': ['salary']\n",
        "}\n",
        "\n",
        "my_model = Model(data=data, distribution=distribution, graph=CausalGraph(my_graph,assignments=assignments), assignments=assignments)\n",
        "### NOTE for reviewers: if the assignment contains a feature which is not in the data\n",
        "# or if there is a duplicate of the same feature, this will throw an error. \n",
        "# If there is a feature in the data that was not assigned to any variable it will output\n",
        "# a warning but otherwise be fine\n"
      ]
    },
    {
      "cell_type": "markdown",
      "metadata": {},
      "source": [
        "When training the network, you are able to manually adjust various settings called \"hyperparameters\". These include the following:\n",
        "* `pipeline_choice`: this specifies the type of neural network that will be ran. The options are as follows,\n",
        "    * `'mle'`: Maximum Likelihood Estimator\n",
        "    * `'gan'`: Generative Adversarial Network\n",
        "    * `'ffn'`: Feed Forward Network\n",
        "    The default is 'mle'. \n",
        "* `n-epochs`: the number of epochs, or passes through the dataset to complete during the training phase, to run. Default: 1000. \n",
        "* `batch-size`: number of training examples to use in each training epoch. \n",
        "* `gpu`: the GPU to use, if you have one. Default: none\n",
        "\n",
        "You may set some, none, or all of these values manually. Valid definitions include:\n",
        "```\n",
        "hyperparameters = {\n",
        "    'pipeline_choice': 'gan',\n",
        "    'n-epochs': 500\n",
        "}\n",
        "```\n",
        "```\n",
        "hyperparameters = {}\n",
        "```\n",
        "```\n",
        "hyperparameters = {\n",
        "    'pipeline_choice': 'ffn',\n",
        "    'n-epochs': 4600,\n",
        "    'batch-size': 4,\n",
        "    'gpu': gpu\n",
        "}\n",
        "```"
      ]
    },
    {
      "cell_type": "code",
      "execution_count": 6,
      "metadata": {},
      "outputs": [
        {
          "name": "stdout",
          "output_type": "stream",
          "text": [
            "training ran with: \n",
            " Graph: <trashfiles.dummy_functions.CausalGraph object at 0x1092429c0> \n",
            " Model: <trashfiles.dummy_functions.Model object at 0x1092c78f0> \n",
            " Params: {'pipeline_choice': 'gan'}\n"
          ]
        }
      ],
      "source": [
        "# Set your parameters here:\n",
        "hyperparameters = {\n",
        "    'pipeline_choice': 'gan'\n",
        "}\n",
        "\n",
        "# And train the model:\n",
        "run_training(my_graph, my_model, hyperparameters)"
      ]
    },
    {
      "cell_type": "markdown",
      "metadata": {
        "id": "BYOhC9bCTRMh"
      },
      "source": [
        "# Query the Model\n",
        "Now that you have a trained model, you can query the model. "
      ]
    },
    {
      "cell_type": "markdown",
      "metadata": {},
      "source": [
        "### Observational Quantities\n",
        "Some kinda explanation"
      ]
    },
    {
      "cell_type": "code",
      "execution_count": 7,
      "metadata": {},
      "outputs": [
        {
          "data": {
            "text/plain": [
              "'P(Y | A=1, B=2)'"
            ]
          },
          "execution_count": 7,
          "metadata": {},
          "output_type": "execute_result"
        }
      ],
      "source": [
        "ev = [\n",
        "    ('A', 1),\n",
        "    ('B', 2)\n",
        "]\n",
        "\n",
        "total_variation('Y', e=ev)"
      ]
    },
    {
      "cell_type": "markdown",
      "metadata": {},
      "source": [
        "### Interventional Quantities\n",
        "Some kinda explanation"
      ]
    },
    {
      "cell_type": "code",
      "execution_count": 8,
      "metadata": {},
      "outputs": [
        {
          "data": {
            "text/plain": [
              "'P(Y_{C=3} | A_{C=3}=1, B_{C=3}=2)'"
            ]
          },
          "execution_count": 8,
          "metadata": {},
          "output_type": "execute_result"
        }
      ],
      "source": [
        "ev = [\n",
        "    ('A', 1),\n",
        "    ('B', 2)\n",
        "]\n",
        "cond = [\n",
        "    ('C', 3)\n",
        "]\n",
        "total_effect('Y', e=ev, c=cond)"
      ]
    },
    {
      "cell_type": "markdown",
      "metadata": {},
      "source": [
        "### Counterfactual Quantities\n",
        "Some kinda explanation.\n",
        "\n",
        "Options:\n",
        "* ETT\n",
        "* PN/PS\n",
        "* PNS\n",
        "* DE\n",
        "* IE"
      ]
    },
    {
      "cell_type": "code",
      "execution_count": 9,
      "metadata": {},
      "outputs": [
        {
          "data": {
            "text/plain": [
              "'P(Y_{A=0} | A=1)'"
            ]
          },
          "execution_count": 9,
          "metadata": {},
          "output_type": "execute_result"
        }
      ],
      "source": [
        "ev = [\n",
        "    ('A', 1),\n",
        "]\n",
        "cond = [\n",
        "    ('A', 0)\n",
        "]\n",
        "ett('Y', e=ev, c=cond)"
      ]
    },
    {
      "cell_type": "markdown",
      "metadata": {
        "id": "7Tv0OBYGTF5U"
      },
      "source": [
        "# Project onto the Standard Fairness Model\n",
        "\n",
        "The standard fairness model (SFM) is a model whose graph has four nodes:\n",
        "* *X*: The protected attribute. This ***fill in explanation***\n",
        "* *Z*: The counfounding variables. This ***fill in explanation***\n",
        "* *W*: The mediator variables. This ***fill in explanation***\n",
        "* *Y*: The outcome variable. This ***fill in explanation***\n",
        "\n",
        "When projecting onto the SFM, you should select one of your model's variables to be *X* and one to be *Y*, but you may assign multiple variables as confounders or mediators. Counfounders may have any relationship to the other confounders, and mediators may have any relationship with the other mediators, however there is a specific structure that must exist between *X*, *Z*, *W*, and *Y*:\n",
        "* *Y* must be a variable that has 0 arrows pointing toward *X*, *Z*, or *W*.\n",
        "* *W* must contain variables that have 0 arrows pointing toward *X* or *Z*.\n",
        "* *X* and *Z* cannot have arrows pointing towards each other, but they may have a bidirected arrow between them. "
      ]
    },
    {
      "cell_type": "markdown",
      "metadata": {},
      "source": [
        "**Here is an example**:\n",
        "Given the following graph. \n",
        "\n",
        "![example1graph.png](img/example1graph.png)\n",
        "\n",
        "Based on this graph, you could do either of the following projections:\n",
        "```\n",
        "projection1 = {\n",
        "    'X': 'e',\n",
        "    'Z': ['a', 'b'],\n",
        "    'W': ['c', 'd'],\n",
        "    'Y': 'f'\n",
        "}\n",
        "```\n",
        "\n",
        "or \n",
        "```\n",
        "projection2 = {\n",
        "    'X': 'a',\n",
        "    'Z': ['e'],\n",
        "    'W': ['b', 'c', 'd'],\n",
        "    'Y': 'f'\n",
        "}\n",
        "```\n",
        "\n",
        "![](img/ex1projection1.png) ![](img/ex1projection2.png)\n",
        "\n",
        "The following would **not** be a valid projection: \n",
        "```\n",
        "bad_projection = {\n",
        "    'X': 'a',\n",
        "    'Z': ['b', 'e'],\n",
        "    'W': ['c', 'd'],\n",
        "    'Y': 'f'\n",
        "}\n",
        "```\n",
        "because there is an arrow from the `X` variable (containing `'a'`) to the `Z` variable (containing `'b'`). This indicates that `X` may actually cause `Z`, rather than just being confounded with `Z`. "
      ]
    },
    {
      "cell_type": "code",
      "execution_count": 10,
      "metadata": {},
      "outputs": [
        {
          "data": {
            "image/svg+xml": [
              "<?xml version=\"1.0\" encoding=\"UTF-8\" standalone=\"no\"?>\n",
              "<!DOCTYPE svg PUBLIC \"-//W3C//DTD SVG 1.1//EN\"\n",
              " \"http://www.w3.org/Graphics/SVG/1.1/DTD/svg11.dtd\">\n",
              "<!-- Generated by graphviz version 12.2.1 (20241206.2353)\n",
              " -->\n",
              "<!-- Title: G Pages: 1 -->\n",
              "<svg width=\"206pt\" height=\"188pt\"\n",
              " viewBox=\"0.00 0.00 206.00 188.00\" xmlns=\"http://www.w3.org/2000/svg\" xmlns:xlink=\"http://www.w3.org/1999/xlink\">\n",
              "<g id=\"graph0\" class=\"graph\" transform=\"scale(1 1) rotate(0) translate(4 184)\">\n",
              "<title>G</title>\n",
              "<polygon fill=\"white\" stroke=\"none\" points=\"-4,4 -4,-184 202,-184 202,4 -4,4\"/>\n",
              "<!-- X -->\n",
              "<g id=\"node1\" class=\"node\">\n",
              "<title>X</title>\n",
              "<ellipse fill=\"none\" stroke=\"black\" cx=\"171\" cy=\"-90\" rx=\"27\" ry=\"18\"/>\n",
              "<text text-anchor=\"middle\" x=\"171\" y=\"-84.95\" font-family=\"Times,serif\" font-size=\"14.00\">X</text>\n",
              "</g>\n",
              "<!-- Y -->\n",
              "<g id=\"node2\" class=\"node\">\n",
              "<title>Y</title>\n",
              "<ellipse fill=\"none\" stroke=\"black\" cx=\"99\" cy=\"-162\" rx=\"27\" ry=\"18\"/>\n",
              "<text text-anchor=\"middle\" x=\"99\" y=\"-156.95\" font-family=\"Times,serif\" font-size=\"14.00\">Y</text>\n",
              "</g>\n",
              "<!-- X&#45;&gt;Y -->\n",
              "<g id=\"edge1\" class=\"edge\">\n",
              "<title>X&#45;&gt;Y</title>\n",
              "<path fill=\"none\" stroke=\"black\" d=\"M155.73,-105.27C145.99,-115.01 133.19,-127.81 122.21,-138.79\"/>\n",
              "<polygon fill=\"black\" stroke=\"black\" points=\"119.91,-136.14 115.32,-145.68 124.86,-141.09 119.91,-136.14\"/>\n",
              "</g>\n",
              "<!-- Z -->\n",
              "<g id=\"node3\" class=\"node\">\n",
              "<title>Z</title>\n",
              "<ellipse fill=\"none\" stroke=\"black\" cx=\"27\" cy=\"-90\" rx=\"27\" ry=\"18\"/>\n",
              "<text text-anchor=\"middle\" x=\"27\" y=\"-84.95\" font-family=\"Times,serif\" font-size=\"14.00\">Z</text>\n",
              "</g>\n",
              "<!-- X&#45;&gt;Z -->\n",
              "<g id=\"edge3\" class=\"edge\">\n",
              "<title>X&#45;&gt;Z</title>\n",
              "<path fill=\"none\" stroke=\"black\" stroke-dasharray=\"5,2\" d=\"M132.1,-90C111.54,-90 86.37,-90 65.82,-90\"/>\n",
              "<polygon fill=\"black\" stroke=\"black\" points=\"132.06,-93.5 142.06,-90 132.06,-86.5 132.06,-93.5\"/>\n",
              "<polygon fill=\"black\" stroke=\"black\" points=\"65.84,-86.5 55.84,-90 65.84,-93.5 65.84,-86.5\"/>\n",
              "</g>\n",
              "<!-- W -->\n",
              "<g id=\"node4\" class=\"node\">\n",
              "<title>W</title>\n",
              "<ellipse fill=\"none\" stroke=\"black\" cx=\"99\" cy=\"-18\" rx=\"27\" ry=\"18\"/>\n",
              "<text text-anchor=\"middle\" x=\"99\" y=\"-12.95\" font-family=\"Times,serif\" font-size=\"14.00\">W</text>\n",
              "</g>\n",
              "<!-- X&#45;&gt;W -->\n",
              "<g id=\"edge2\" class=\"edge\">\n",
              "<title>X&#45;&gt;W</title>\n",
              "<path fill=\"none\" stroke=\"black\" d=\"M155.73,-74.73C145.99,-64.99 133.19,-52.19 122.21,-41.21\"/>\n",
              "<polygon fill=\"black\" stroke=\"black\" points=\"124.86,-38.91 115.32,-34.32 119.91,-43.86 124.86,-38.91\"/>\n",
              "</g>\n",
              "<!-- Z&#45;&gt;Y -->\n",
              "<g id=\"edge4\" class=\"edge\">\n",
              "<title>Z&#45;&gt;Y</title>\n",
              "<path fill=\"none\" stroke=\"black\" d=\"M42.27,-105.27C52.01,-115.01 64.81,-127.81 75.79,-138.79\"/>\n",
              "<polygon fill=\"black\" stroke=\"black\" points=\"73.14,-141.09 82.68,-145.68 78.09,-136.14 73.14,-141.09\"/>\n",
              "</g>\n",
              "<!-- Z&#45;&gt;W -->\n",
              "<g id=\"edge5\" class=\"edge\">\n",
              "<title>Z&#45;&gt;W</title>\n",
              "<path fill=\"none\" stroke=\"black\" d=\"M42.27,-74.73C52.01,-64.99 64.81,-52.19 75.79,-41.21\"/>\n",
              "<polygon fill=\"black\" stroke=\"black\" points=\"78.09,-43.86 82.68,-34.32 73.14,-38.91 78.09,-43.86\"/>\n",
              "</g>\n",
              "<!-- W&#45;&gt;Y -->\n",
              "<g id=\"edge6\" class=\"edge\">\n",
              "<title>W&#45;&gt;Y</title>\n",
              "<path fill=\"none\" stroke=\"black\" d=\"M99,-36.24C99,-60.47 99,-103.59 99,-132.49\"/>\n",
              "<polygon fill=\"black\" stroke=\"black\" points=\"95.5,-132.4 99,-142.4 102.5,-132.4 95.5,-132.4\"/>\n",
              "</g>\n",
              "</g>\n",
              "</svg>\n"
            ],
            "text/plain": [
              "<graphviz.sources.Source at 0x1092f0e60>"
            ]
          },
          "execution_count": 10,
          "metadata": {},
          "output_type": "execute_result"
        }
      ],
      "source": [
        "# Specify your projection here:\n",
        "projection = {\n",
        "    'X': 'C',\n",
        "    'Z': ['A', 'B'],\n",
        "    'W': ['D'],\n",
        "    'Y': 'E'\n",
        "}\n",
        "sfm = project_to_sfm(my_model.cg, projection)\n",
        "\n",
        "# Confirm that this is the projection you intended:\n",
        "sfm.plot()"
      ]
    },
    {
      "cell_type": "markdown",
      "metadata": {
        "id": "NATPdYARTaaq"
      },
      "source": [
        "# Run Fairness Tasks\n",
        "\n",
        "This will have a lot of the same tasks & suggestions as Drago's git thinggy https://dplecko.github.io/CFA/\n",
        "- May add more specific examples from here\n",
        "\n",
        "Reference to paper: https://causalai.net/r90.pdf \n",
        "\n",
        "***TODO***: Explain the different fairness measures"
      ]
    },
    {
      "cell_type": "markdown",
      "metadata": {},
      "source": [
        "***TODO***: Brief overview of task 1, 2, 3. "
      ]
    },
    {
      "cell_type": "markdown",
      "metadata": {},
      "source": [
        "### Task 1: Bias Detection & Quantification\n",
        "More detailed explanation of this task with examples and how to do the different measures (not just xspec as shown below). "
      ]
    },
    {
      "cell_type": "code",
      "execution_count": 15,
      "metadata": {},
      "outputs": [
        {
          "name": "stdout",
          "output_type": "stream",
          "text": [
            "pretend this is a graph\n",
            "z-SPECIFIC\n",
            "\tz-TE_[x0=0,x1=1](y|x) = value\n",
            "\tz-DE_[x0=0,x1=1](y|x) = value\n",
            "\tz-IE_[x0=0,x1=1](y|x) = value\n"
          ]
        }
      ],
      "source": [
        "fcb = fairness_cookbook(data, sfm.X, sfm.W, sfm.Z, sfm.Y, x0=0, x1=1)\n",
        "autoplot(fcb, decompose='zspec', dataset=data)"
      ]
    },
    {
      "cell_type": "markdown",
      "metadata": {},
      "source": [
        "### Task 2: Fair Prediction \n",
        "More detailed explanation of this task with examples. "
      ]
    },
    {
      "cell_type": "code",
      "execution_count": 12,
      "metadata": {},
      "outputs": [],
      "source": [
        "fair_pred = fair_predictions(data, sfm, x0=0, x1=1, bn='ie')\n",
        "\n",
        "# You can now obtain predictions on new data\n",
        "preds = predict(fair_pred, data)\n",
        "data['fair_predictions'] = preds\n",
        "\n",
        "# And decompose the predictions on the evaluation set\n",
        "faircause_decomposition = fairness_cookbook(data, sfm.X, sfm.W, sfm.Z, 'fair_predictions', x0=0, x1=1)\n",
        "# You can now run the same quantification that you did with the cookbook under task 1"
      ]
    },
    {
      "cell_type": "markdown",
      "metadata": {},
      "source": [
        "### Task 3: Fair Decision-Making\n",
        "More detailed explanation of this task with examples. "
      ]
    },
    {
      "cell_type": "code",
      "execution_count": 13,
      "metadata": {},
      "outputs": [],
      "source": [
        "resp_oc = fair_decisions(data, sfm, x0=0, x1=1, po_transform='', po_diff_sign=1)"
      ]
    },
    {
      "cell_type": "markdown",
      "metadata": {},
      "source": [
        "Now analyze important aspects of decision-making. Options for 'type' include:\n",
        "* \"decision\": decomposition of D\n",
        "* \"delta\": decomposition of Delta\n",
        "* \"benefit_fairness\": inspect benefit fairness"
      ]
    },
    {
      "cell_type": "code",
      "execution_count": 14,
      "metadata": {},
      "outputs": [
        {
          "name": "stdout",
          "output_type": "stream",
          "text": [
            "pretend this is a graph\n",
            "x-SPECIFIC\n",
            "\tETT_[x0=0,x1=1](y|x) = value\n",
            "\tCtf-SE_[x0=0,x1=1](y) = value\n",
            "\tCtf-DE_[x0=0,x1=1](y|x) = value\n",
            "\tCtf-IE_[x0=0,x1=1](y|x) = value\n"
          ]
        }
      ],
      "source": [
        "# analyze important aspects of decision-making\n",
        "autoplot(resp_oc, type = \"decision\")"
      ]
    }
  ],
  "metadata": {
    "colab": {
      "authorship_tag": "ABX9TyOoTiWA3cC9RHRSH13/DGw1",
      "include_colab_link": true,
      "provenance": [],
      "toc_visible": true
    },
    "kernelspec": {
      "display_name": "Python 3",
      "name": "python3"
    },
    "language_info": {
      "codemirror_mode": {
        "name": "ipython",
        "version": 3
      },
      "file_extension": ".py",
      "mimetype": "text/x-python",
      "name": "python",
      "nbconvert_exporter": "python",
      "pygments_lexer": "ipython3",
      "version": "3.12.6"
    }
  },
  "nbformat": 4,
  "nbformat_minor": 0
}
