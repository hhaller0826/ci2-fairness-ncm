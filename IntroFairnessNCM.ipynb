{
  "nbformat": 4,
  "nbformat_minor": 0,
  "metadata": {
    "colab": {
      "provenance": [],
      "toc_visible": true,
      "authorship_tag": "ABX9TyOoTiWA3cC9RHRSH13/DGw1",
      "include_colab_link": true
    },
    "kernelspec": {
      "name": "python3",
      "display_name": "Python 3"
    },
    "language_info": {
      "name": "python"
    }
  },
  "cells": [
    {
      "cell_type": "markdown",
      "metadata": {
        "id": "view-in-github",
        "colab_type": "text"
      },
      "source": [
        "<a href=\"https://colab.research.google.com/github/hhaller0826/ci2-fairness-ncm/blob/main/IntroFairnessNCM.ipynb\" target=\"_parent\"><img src=\"https://colab.research.google.com/assets/colab-badge.svg\" alt=\"Open In Colab\"/></a>"
      ]
    },
    {
      "cell_type": "markdown",
      "source": [
        "# Introduction/Explanation"
      ],
      "metadata": {
        "id": "IgunRRxRSECt"
      }
    },
    {
      "cell_type": "markdown",
      "source": [
        "# Create a Causal Graph"
      ],
      "metadata": {
        "id": "aj1bp-5ESFoq"
      }
    },
    {
      "cell_type": "markdown",
      "source": [
        "# Train the Model\n"
      ],
      "metadata": {
        "id": "wTCqyhX8S4s4"
      }
    },
    {
      "cell_type": "markdown",
      "source": [
        "# Query the Model"
      ],
      "metadata": {
        "id": "BYOhC9bCTRMh"
      }
    },
    {
      "cell_type": "markdown",
      "source": [
        "# Project onto the Standard Fairness Model"
      ],
      "metadata": {
        "id": "7Tv0OBYGTF5U"
      }
    },
    {
      "cell_type": "markdown",
      "source": [
        "# Run Fairness Tasks"
      ],
      "metadata": {
        "id": "NATPdYARTaaq"
      }
    }
  ]
}